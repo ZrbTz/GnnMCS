{
  "cells": [
    {
      "cell_type": "markdown",
      "metadata": {
        "id": "AxTbNgAbpVJd"
      },
      "source": [
        "# Imports\n"
      ]
    },
    {
      "cell_type": "code",
      "execution_count": 1,
      "metadata": {
        "colab": {
          "base_uri": "https://localhost:8080/"
        },
        "id": "H0azrBxIpVJg",
        "outputId": "5cc9929f-99e1-49d9-dada-c536dc80286c"
      },
      "outputs": [],
      "source": [
        "import sys, os\n",
        "sys.path.insert(0, os.path.abspath(\"/home/tom/tesi/MCSHeuristicCpp\"))\n",
        "\n",
        "import argparse\n",
        "\n",
        "import torch\n",
        "\n",
        "import matplotlib.pyplot as plt\n",
        "plt.rcParams.update({'font.size': 16})\n",
        "\n",
        "from common import models\n",
        "from common import utils\n",
        "from subgraph_matching.config import parse_encoder\n",
        "import compute_vector"
      ]
    },
    {
      "cell_type": "markdown",
      "metadata": {
        "id": "mAWX1M1E0yMC"
      },
      "source": [
        "## Load model"
      ]
    },
    {
      "cell_type": "code",
      "execution_count": 2,
      "metadata": {
        "colab": {
          "base_uri": "https://localhost:8080/"
        },
        "id": "QRRRUO8gpVJq",
        "outputId": "3cae1f09-1715-4453-af0e-7d67209da33b"
      },
      "outputs": [
        {
          "name": "stdout",
          "output_type": "stream",
          "text": [
            "Using dataset syn\n"
          ]
        }
      ],
      "source": [
        "parser = argparse.ArgumentParser()\n",
        "\n",
        "utils.parse_optimizer(parser)\n",
        "parse_encoder(parser)\n",
        "args = parser.parse_args(\"\")\n",
        "args.model_path = os.path.join(\"..\", \"ckpt/model.pt\")\n",
        "\n",
        "print(\"Using dataset {}\".format(args.dataset))\n",
        "model = models.OrderEmbedder(1, args.hidden_dim, args)\n",
        "model.to(utils.get_device())\n",
        "model.eval()\n",
        "model.load_state_dict(torch.load(\"/home/tom/tesi/MCSHeuristicCpp/ckpt/model.pt\", map_location=utils.get_device()))\n",
        "\n",
        "testPath = \"/home/tom/tesi/MCSHeuristicCpp/text_ben/mb\""
      ]
    },
    {
      "cell_type": "code",
      "execution_count": 3,
      "metadata": {},
      "outputs": [
        {
          "name": "stdout",
          "output_type": "stream",
          "text": [
            "<DirEntry 'results_a.txt'>\n",
            "<DirEntry 'results_a.txt'>\n",
            "<DirEntry 'results_a.txt'>\n",
            "<DirEntry 'results_a.txt'>\n",
            "<DirEntry 'results_a.txt'>\n",
            "<DirEntry 'results_a.txt'>\n",
            "<DirEntry 'results_a.txt'>\n",
            "<DirEntry 'results_a.txt'>\n",
            "<DirEntry 'results_a.txt'>\n",
            "<DirEntry 'results_a.txt'>\n"
          ]
        },
        {
          "ename": "ValueError",
          "evalue": "not enough values to unpack (expected 2, got 1)",
          "output_type": "error",
          "traceback": [
            "\u001b[0;31m---------------------------------------------------------------------------\u001b[0m",
            "\u001b[0;31mValueError\u001b[0m                                Traceback (most recent call last)",
            "\u001b[0;32m/tmp/ipykernel_422/1171725800.py\u001b[0m in \u001b[0;36m<module>\u001b[0;34m\u001b[0m\n\u001b[0;32m----> 1\u001b[0;31m \u001b[0mresultsMcCreesh\u001b[0m \u001b[0;34m=\u001b[0m \u001b[0mcompute_vector\u001b[0m\u001b[0;34m.\u001b[0m\u001b[0mlaunch_solver_fulltest\u001b[0m\u001b[0;34m(\u001b[0m\u001b[0mfolderPath\u001b[0m\u001b[0;34m=\u001b[0m\u001b[0mtestPath\u001b[0m\u001b[0;34m,\u001b[0m \u001b[0mvertex_labeled\u001b[0m\u001b[0;34m=\u001b[0m\u001b[0;32mFalse\u001b[0m\u001b[0;34m,\u001b[0m \u001b[0mdirected\u001b[0m\u001b[0;34m=\u001b[0m\u001b[0;32mFalse\u001b[0m\u001b[0;34m,\u001b[0m \u001b[0mconnected\u001b[0m\u001b[0;34m=\u001b[0m\u001b[0;32mFalse\u001b[0m\u001b[0;34m,\u001b[0m \u001b[0medge_labeled\u001b[0m\u001b[0;34m=\u001b[0m\u001b[0;32mFalse\u001b[0m\u001b[0;34m,\u001b[0m \u001b[0mtimeout\u001b[0m\u001b[0;34m=\u001b[0m \u001b[0;36m600.0\u001b[0m\u001b[0;34m,\u001b[0m \u001b[0mmodel\u001b[0m\u001b[0;34m=\u001b[0m\u001b[0mmodel\u001b[0m\u001b[0;34m,\u001b[0m \u001b[0mheuristic\u001b[0m \u001b[0;34m=\u001b[0m \u001b[0;34m\"total_similarity\"\u001b[0m\u001b[0;34m,\u001b[0m \u001b[0mhops\u001b[0m\u001b[0;34m=\u001b[0m\u001b[0;36m1\u001b[0m\u001b[0;34m,\u001b[0m \u001b[0mbatch_size\u001b[0m \u001b[0;34m=\u001b[0m \u001b[0;36m1\u001b[0m\u001b[0;34m,\u001b[0m \u001b[0msavetest_file\u001b[0m\u001b[0;34m=\u001b[0m\u001b[0;34m'/home/tom/tesi/MCSHeuristic/json/BN_H001_mcs10_bvg_b03.json'\u001b[0m\u001b[0;34m)\u001b[0m\u001b[0;34m\u001b[0m\u001b[0;34m\u001b[0m\u001b[0m\n\u001b[0m",
            "\u001b[0;32m~/tesi/MCSHeuristicCpp/compute_vector.py\u001b[0m in \u001b[0;36mlaunch_solver_fulltest\u001b[0;34m(folderPath, vertex_labeled, directed, connected, edge_labeled, timeout, model, heuristic, hops, batch_size, savetest_file)\u001b[0m\n\u001b[1;32m    123\u001b[0m                 \u001b[0;32mfor\u001b[0m \u001b[0mgraphPath\u001b[0m \u001b[0;32min\u001b[0m \u001b[0msorted\u001b[0m\u001b[0;34m(\u001b[0m\u001b[0mos\u001b[0m\u001b[0;34m.\u001b[0m\u001b[0mscandir\u001b[0m\u001b[0;34m(\u001b[0m\u001b[0mentry\u001b[0m\u001b[0;34m)\u001b[0m\u001b[0;34m,\u001b[0m \u001b[0mkey\u001b[0m\u001b[0;34m=\u001b[0m\u001b[0;32mlambda\u001b[0m \u001b[0me\u001b[0m\u001b[0;34m:\u001b[0m \u001b[0me\u001b[0m\u001b[0;34m.\u001b[0m\u001b[0mname\u001b[0m\u001b[0;34m)\u001b[0m\u001b[0;34m:\u001b[0m\u001b[0;34m\u001b[0m\u001b[0;34m\u001b[0m\u001b[0m\n\u001b[1;32m    124\u001b[0m                     \u001b[0mgraphs\u001b[0m\u001b[0;34m.\u001b[0m\u001b[0mappend\u001b[0m\u001b[0;34m(\u001b[0m\u001b[0mgraphPath\u001b[0m\u001b[0;34m)\u001b[0m\u001b[0;34m\u001b[0m\u001b[0;34m\u001b[0m\u001b[0m\n\u001b[0;32m--> 125\u001b[0;31m                 g1, g2 = launch_solver(input_files=graphs, vertex_labeled=vertex_labeled, directed=directed,\n\u001b[0m\u001b[1;32m    126\u001b[0m             connected=connected, edge_labeled=edge_labeled, timeout=timeout, model=model, heuristic = heuristic, hops=hops, batch_size=batch_size)\n\u001b[1;32m    127\u001b[0m \u001b[0;34m\u001b[0m\u001b[0m\n",
            "\u001b[0;32m~/tesi/MCSHeuristicCpp/compute_vector.py\u001b[0m in \u001b[0;36mlaunch_solver\u001b[0;34m(input_files, vertex_labeled, directed, connected, edge_labeled, timeout, model, heuristic, hops, batch_size)\u001b[0m\n\u001b[1;32m    146\u001b[0m \u001b[0;34m\u001b[0m\u001b[0m\n\u001b[1;32m    147\u001b[0m     \u001b[0mprint\u001b[0m\u001b[0;34m(\u001b[0m\u001b[0minput_files\u001b[0m\u001b[0;34m[\u001b[0m\u001b[0;36m0\u001b[0m\u001b[0;34m]\u001b[0m\u001b[0;34m)\u001b[0m\u001b[0;34m\u001b[0m\u001b[0;34m\u001b[0m\u001b[0m\n\u001b[0;32m--> 148\u001b[0;31m     g0 = Graph.read_from_text(\n\u001b[0m\u001b[1;32m    149\u001b[0m         input_files[0], directed, vertex_labeled)\n\u001b[1;32m    150\u001b[0m     g1 = Graph.read_from_text(\n",
            "\u001b[0;32m~/tesi/MCSHeuristicCpp/compute_vector.py\u001b[0m in \u001b[0;36mread_from_text\u001b[0;34m(filename, directed, vertex_labelled)\u001b[0m\n\u001b[1;32m     48\u001b[0m         \u001b[0mgraph\u001b[0m \u001b[0;34m=\u001b[0m \u001b[0;32mNone\u001b[0m\u001b[0;34m\u001b[0m\u001b[0;34m\u001b[0m\u001b[0m\n\u001b[1;32m     49\u001b[0m         \u001b[0;32mwith\u001b[0m \u001b[0mopen\u001b[0m\u001b[0;34m(\u001b[0m\u001b[0mfilename\u001b[0m\u001b[0;34m,\u001b[0m \u001b[0;34m\"r\"\u001b[0m\u001b[0;34m)\u001b[0m \u001b[0;32mas\u001b[0m \u001b[0mfile_buffer\u001b[0m\u001b[0;34m:\u001b[0m\u001b[0;34m\u001b[0m\u001b[0;34m\u001b[0m\u001b[0m\n\u001b[0;32m---> 50\u001b[0;31m             \u001b[0mn_nodes\u001b[0m\u001b[0;34m,\u001b[0m \u001b[0mn_edges\u001b[0m \u001b[0;34m=\u001b[0m \u001b[0mfile_buffer\u001b[0m\u001b[0;34m.\u001b[0m\u001b[0mreadline\u001b[0m\u001b[0;34m(\u001b[0m\u001b[0;34m)\u001b[0m\u001b[0;34m.\u001b[0m\u001b[0msplit\u001b[0m\u001b[0;34m(\u001b[0m\u001b[0;34m\" \"\u001b[0m\u001b[0;34m)\u001b[0m\u001b[0;34m\u001b[0m\u001b[0;34m\u001b[0m\u001b[0m\n\u001b[0m\u001b[1;32m     51\u001b[0m             \u001b[0mn_nodes\u001b[0m\u001b[0;34m,\u001b[0m \u001b[0mn_edges\u001b[0m \u001b[0;34m=\u001b[0m \u001b[0mint\u001b[0m\u001b[0;34m(\u001b[0m\u001b[0mn_nodes\u001b[0m\u001b[0;34m)\u001b[0m\u001b[0;34m,\u001b[0m \u001b[0mint\u001b[0m\u001b[0;34m(\u001b[0m\u001b[0mn_edges\u001b[0m\u001b[0;34m)\u001b[0m\u001b[0;34m\u001b[0m\u001b[0;34m\u001b[0m\u001b[0m\n\u001b[1;32m     52\u001b[0m             \u001b[0mgraph\u001b[0m \u001b[0;34m=\u001b[0m \u001b[0mGraph\u001b[0m\u001b[0;34m(\u001b[0m\u001b[0mn_nodes\u001b[0m\u001b[0;34m)\u001b[0m\u001b[0;34m\u001b[0m\u001b[0;34m\u001b[0m\u001b[0m\n",
            "\u001b[0;31mValueError\u001b[0m: not enough values to unpack (expected 2, got 1)"
          ]
        }
      ],
      "source": [
        "resultsMcCreesh = compute_vector.launch_solver_fulltest(folderPath=testPath, vertex_labeled=False, directed=False, connected=False, edge_labeled=False, timeout= 600.0, model=model, heuristic = \"total_similarity\", hops=1, batch_size = 1, savetest_file='/home/tom/tesi/MCSHeuristic/json/BN_H001_mcs10_bvg_b03.json')"
      ]
    },
    {
      "cell_type": "code",
      "execution_count": null,
      "metadata": {},
      "outputs": [
        {
          "name": "stdout",
          "output_type": "stream",
          "text": [
            "<DirEntry 'results_a.txt'>\n",
            "<DirEntry 'results_a.txt'>\n",
            "<DirEntry 'results_a.txt'>\n",
            "<DirEntry 'results_a.txt'>\n",
            "<DirEntry 'results_a.txt'>\n",
            "<DirEntry 'results_a.txt'>\n",
            "<DirEntry 'results_a.txt'>\n",
            "<DirEntry 'results_a.txt'>\n",
            "<DirEntry 'results_a.txt'>\n",
            "<DirEntry 'results_a.txt'>\n",
            "<DirEntry 'results_a.txt'>\n",
            "<DirEntry 'results_a.txt'>\n"
          ]
        }
      ],
      "source": [
        "resultsMcCreesh = compute_vector.launch_solver_fulltest(folderPath=testPath, vertex_labeled=False, directed=False, connected=False, edge_labeled=False, timeout= 600.0, model=model, heuristic = \"total_similarity\", hops=2, batch_size = 1, savetest_file='/home/tom/tesi/MCSHeuristic/json/BN_H001_mcs10_bvg_b03.json')"
      ]
    },
    {
      "cell_type": "code",
      "execution_count": null,
      "metadata": {},
      "outputs": [
        {
          "name": "stdout",
          "output_type": "stream",
          "text": [
            "<DirEntry 'results_a.txt'>\n",
            "<DirEntry 'results_a.txt'>\n",
            "<DirEntry 'results_a.txt'>\n",
            "<DirEntry 'results_a.txt'>\n",
            "<DirEntry 'results_a.txt'>\n",
            "<DirEntry 'results_a.txt'>\n",
            "<DirEntry 'results_a.txt'>\n",
            "<DirEntry 'results_a.txt'>\n",
            "<DirEntry 'results_a.txt'>\n",
            "<DirEntry 'results_a.txt'>\n",
            "<DirEntry 'results_a.txt'>\n",
            "<DirEntry 'results_a.txt'>\n"
          ]
        }
      ],
      "source": [
        "resultsMcCreesh = compute_vector.launch_solver_fulltest(folderPath=testPath, vertex_labeled=False, directed=False, connected=False, edge_labeled=False, timeout= 600.0, model=model, heuristic = \"total_similarity\", hops=3, batch_size = 1, savetest_file='/home/tom/tesi/MCSHeuristic/json/BN_H001_mcs10_bvg_b03.json')"
      ]
    },
    {
      "cell_type": "code",
      "execution_count": null,
      "metadata": {},
      "outputs": [
        {
          "name": "stdout",
          "output_type": "stream",
          "text": [
            "<DirEntry 'results_a.txt'>\n",
            "<DirEntry 'results_a.txt'>\n",
            "<DirEntry 'results_a.txt'>\n",
            "<DirEntry 'results_a.txt'>\n",
            "<DirEntry 'results_a.txt'>\n",
            "<DirEntry 'results_a.txt'>\n",
            "<DirEntry 'results_a.txt'>\n",
            "<DirEntry 'results_a.txt'>\n",
            "<DirEntry 'results_a.txt'>\n",
            "<DirEntry 'results_a.txt'>\n",
            "<DirEntry 'results_a.txt'>\n",
            "<DirEntry 'results_a.txt'>\n"
          ]
        }
      ],
      "source": [
        "resultsMcCreesh = compute_vector.launch_solver_fulltest(folderPath=testPath, vertex_labeled=False, directed=False, connected=False, edge_labeled=False, timeout= 600.0, model=model, heuristic = \"total_similarity\", hops=4, batch_size = 1, savetest_file='/home/tom/tesi/MCSHeuristic/json/BN_H001_mcs10_bvg_b03.json')"
      ]
    },
    {
      "cell_type": "code",
      "execution_count": null,
      "metadata": {
        "colab": {
          "background_save": true,
          "base_uri": "https://localhost:8080/"
        },
        "id": "fPx9X3Fv0vj9",
        "outputId": "53aba5c9-e6bd-4821-c6c3-20322a1ee4cb"
      },
      "outputs": [
        {
          "name": "stdout",
          "output_type": "stream",
          "text": [
            "<DirEntry 'results_a.txt'>\n",
            "<DirEntry 'results_a.txt'>\n",
            "<DirEntry 'results_a.txt'>\n",
            "<DirEntry 'results_a.txt'>\n",
            "<DirEntry 'results_a.txt'>\n",
            "<DirEntry 'results_a.txt'>\n",
            "<DirEntry 'results_a.txt'>\n",
            "<DirEntry 'results_a.txt'>\n",
            "<DirEntry 'results_a.txt'>\n",
            "<DirEntry 'results_a.txt'>\n",
            "<DirEntry 'results_a.txt'>\n",
            "<DirEntry 'results_a.txt'>\n"
          ]
        }
      ],
      "source": [
        "\n",
        "resultsMcCreesh = compute_vector.launch_solver_fulltest(folderPath=testPath, vertex_labeled=False, directed=False, connected=False, edge_labeled=False, timeout= 600.0, model=model, heuristic = \"total_similarity\", hops=5, batch_size = 1, savetest_file='/home/tom/tesi/MCSHeuristic/json/BN_H001_mcs10_bvg_b03.json')"
      ]
    },
    {
      "cell_type": "code",
      "execution_count": null,
      "metadata": {},
      "outputs": [
        {
          "name": "stdout",
          "output_type": "stream",
          "text": [
            "<DirEntry 'results_a.txt'>\n",
            "<DirEntry 'results_a.txt'>\n",
            "<DirEntry 'results_a.txt'>\n",
            "<DirEntry 'results_a.txt'>\n",
            "<DirEntry 'results_a.txt'>\n",
            "<DirEntry 'results_a.txt'>\n",
            "<DirEntry 'results_a.txt'>\n",
            "<DirEntry 'results_a.txt'>\n",
            "<DirEntry 'results_a.txt'>\n",
            "<DirEntry 'results_a.txt'>\n",
            "<DirEntry 'results_a.txt'>\n",
            "<DirEntry 'results_a.txt'>\n"
          ]
        }
      ],
      "source": [
        "resultsMcCreesh = compute_vector.launch_solver_fulltest(folderPath=testPath, vertex_labeled=False, directed=False, connected=False, edge_labeled=False, timeout= 600.0, model=model, heuristic = \"total_similarity\", hops=6, batch_size = 1, savetest_file='/home/tom/tesi/MCSHeuristic/json/BN_H001_mcs10_bvg_b03.json')"
      ]
    },
    {
      "cell_type": "code",
      "execution_count": null,
      "metadata": {},
      "outputs": [
        {
          "name": "stdout",
          "output_type": "stream",
          "text": [
            "<DirEntry 'results_a.txt'>\n",
            "<DirEntry 'results_a.txt'>\n",
            "<DirEntry 'results_a.txt'>\n",
            "<DirEntry 'results_a.txt'>\n",
            "<DirEntry 'results_a.txt'>\n",
            "<DirEntry 'results_a.txt'>\n",
            "<DirEntry 'results_a.txt'>\n",
            "<DirEntry 'results_a.txt'>\n",
            "<DirEntry 'results_a.txt'>\n",
            "<DirEntry 'results_a.txt'>\n",
            "<DirEntry 'results_a.txt'>\n",
            "<DirEntry 'results_a.txt'>\n"
          ]
        }
      ],
      "source": [
        "resultsMcCreesh = compute_vector.launch_solver_fulltest(folderPath=testPath, vertex_labeled=False, directed=False, connected=False, edge_labeled=False, timeout= 600.0, model=model, heuristic = \"total_similarity\", hops=7, batch_size = 1, savetest_file='/home/tom/tesi/MCSHeuristic/json/BN_H001_mcs10_bvg_b03.json')"
      ]
    },
    {
      "cell_type": "code",
      "execution_count": null,
      "metadata": {},
      "outputs": [
        {
          "name": "stdout",
          "output_type": "stream",
          "text": [
            "<DirEntry 'results_a.txt'>\n",
            "<DirEntry 'results_a.txt'>\n",
            "<DirEntry 'results_a.txt'>\n",
            "<DirEntry 'results_a.txt'>\n",
            "<DirEntry 'results_a.txt'>\n",
            "<DirEntry 'results_a.txt'>\n",
            "<DirEntry 'results_a.txt'>\n",
            "<DirEntry 'results_a.txt'>\n",
            "<DirEntry 'results_a.txt'>\n",
            "<DirEntry 'results_a.txt'>\n",
            "<DirEntry 'results_a.txt'>\n",
            "<DirEntry 'results_a.txt'>\n"
          ]
        }
      ],
      "source": [
        "resultsMcCreesh = compute_vector.launch_solver_fulltest(folderPath=testPath, vertex_labeled=False, directed=False, connected=False, edge_labeled=False, timeout= 600.0, model=model, heuristic = \"total_similarity\", hops=8, batch_size = 1, savetest_file='/home/tom/tesi/MCSHeuristic/json/BN_H001_mcs10_bvg_b03.json')"
      ]
    }
  ],
  "metadata": {
    "accelerator": "GPU",
    "colab": {
      "collapsed_sections": [],
      "name": "Testing Heuristics H2.ipynb",
      "provenance": []
    },
    "interpreter": {
      "hash": "36cf16204b8548560b1c020c4e8fb5b57f0e4c58016f52f2d4be01e192833930"
    },
    "kernelspec": {
      "display_name": "Python 3.9.7 64-bit",
      "name": "python3"
    },
    "language_info": {
      "codemirror_mode": {
        "name": "ipython",
        "version": 3
      },
      "file_extension": ".py",
      "mimetype": "text/x-python",
      "name": "python",
      "nbconvert_exporter": "python",
      "pygments_lexer": "ipython3",
      "version": "3.9.10"
    }
  },
  "nbformat": 4,
  "nbformat_minor": 2
}
